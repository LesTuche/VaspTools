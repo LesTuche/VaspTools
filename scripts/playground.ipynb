{
 "cells": [
  {
   "cell_type": "markdown",
   "id": "05ae957d",
   "metadata": {},
   "source": [
    "### THIS is a test ground to interactively test new features"
   ]
  },
  {
   "cell_type": "code",
   "execution_count": 11,
   "id": "4520157f",
   "metadata": {},
   "outputs": [],
   "source": [
    "import os\n",
    "os.getcwd()\n",
    "os.listdir('.')\n",
    "from drm_copt_estefania_tools import incar_tags_bulk"
   ]
  },
  {
   "cell_type": "code",
   "execution_count": 17,
   "id": "5874465c",
   "metadata": {},
   "outputs": [
    {
     "data": {
      "application/vnd.jupyter.widget-view+json": {
       "model_id": "5db2db8a4e6241cb9a7f18bd78e5fd5b",
       "version_major": 2,
       "version_minor": 0
      },
      "text/plain": [
       "Retrieving MaterialsDoc documents:   0%|          | 0/1 [00:00<?, ?it/s]"
      ]
     },
     "metadata": {},
     "output_type": "display_data"
    },
    {
     "name": "stdout",
     "output_type": "stream",
     "text": [
      "Preparing input files for a bulk calculation of mp-126 for VASP.\n",
      "Writing input files for mp-126 to /home/joel/VaspTools/scripts\n"
     ]
    }
   ],
   "source": [
    "import utils\n",
    "\n",
    "tst_formula =\"Pt\"\n",
    "incar_tags = {\n",
    "    \"ISPIN\": 2,\n",
    "    \"LORBIT\": 11,\n",
    " }\n",
    "\n",
    "\n",
    "\n",
    "\n",
    "utils.prepare_bulk_structure(material=\"mp-126\",incar_tags_user=incar_tags,kspacing=0.15,folder_path=os.getcwd().join(\"test\")) \n"
   ]
  },
  {
   "cell_type": "code",
   "execution_count": 12,
   "id": "d5160e1e",
   "metadata": {},
   "outputs": [
    {
     "data": {
      "application/vnd.jupyter.widget-view+json": {
       "model_id": "646b27c5b04d4c1b88f952a80b8fa487",
       "version_major": 2,
       "version_minor": 0
      },
      "text/plain": [
       "Retrieving SummaryDoc documents:   0%|          | 0/1 [00:00<?, ?it/s]"
      ]
     },
     "metadata": {},
     "output_type": "display_data"
    },
    {
     "name": "stdout",
     "output_type": "stream",
     "text": [
      "mp-126\n"
     ]
    }
   ],
   "source": [
    "from mp_api.client import MPRester\n",
    "\n",
    "\n",
    "with MPRester() as mpr:\n",
    "    structures = mpr.materials.summary.search(formula=\"Pt\", theoretical=False,fields=[\"material_id\"])\n",
    "    for struct in structures:\n",
    "        print(struct.material_id)\n",
    "        \n",
    "\n"
   ]
  },
  {
   "cell_type": "code",
   "execution_count": null,
   "id": "a30e1d4c",
   "metadata": {},
   "outputs": [],
   "source": []
  }
 ],
 "metadata": {
  "kernelspec": {
   "display_name": "surface_env",
   "language": "python",
   "name": "python3"
  },
  "language_info": {
   "codemirror_mode": {
    "name": "ipython",
    "version": 3
   },
   "file_extension": ".py",
   "mimetype": "text/x-python",
   "name": "python",
   "nbconvert_exporter": "python",
   "pygments_lexer": "ipython3",
   "version": "3.11.12"
  }
 },
 "nbformat": 4,
 "nbformat_minor": 5
}
