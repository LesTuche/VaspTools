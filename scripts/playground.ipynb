{
 "cells": [
  {
   "cell_type": "markdown",
   "id": "05ae957d",
   "metadata": {},
   "source": [
    "### THIS is a test ground to interactively test new features"
   ]
  },
  {
   "cell_type": "code",
   "execution_count": 6,
   "id": "4520157f",
   "metadata": {},
   "outputs": [],
   "source": [
    "import os\n",
    "os.getcwd()\n",
    "os.listdir('.')\n",
    "from drm_copt_estefania_tools import incar_tags_bulk"
   ]
  },
  {
   "cell_type": "code",
   "execution_count": null,
   "id": "5874465c",
   "metadata": {},
   "outputs": [],
   "source": [
    "trial_formula = \"Pt\"\n",
    "\n",
    "trial_id   = 'mp-126'\n",
    "from ase.visualize import view\n",
    "\n",
    "from copy import deepcopy\n",
    "from ase.io import read\n",
    "from ase.lattice.tetragonal import SimpleTetragonalFactory\n",
    "from vasptools.structureopt import StructureOptimization\n",
    "from vasptools.vasp_recommended_pp import VASP_RECOMMENDED_PP\n",
    "from ase.visualize import view\n",
    "\n"
   ]
  },
  {
   "cell_type": "code",
   "execution_count": 20,
   "id": "aa7dd822",
   "metadata": {},
   "outputs": [
    {
     "data": {
      "text/plain": [
       "<Popen: returncode: None args: ['/home/joel/miniforge3/envs/surface_env/bin/...>"
      ]
     },
     "execution_count": 20,
     "metadata": {},
     "output_type": "execute_result"
    },
    {
     "name": "stderr",
     "output_type": "stream",
     "text": [
      "/home/joel/ase/ase/eos.py:309: RankWarning: Polyfit may be poorly conditioned\n",
      "  fit0 = np.poly1d(np.polyfit(self.v**-(1 / 3), self.e, 3))\n",
      "/home/joel/ase/ase/gui/observer.py:36: UserWarning: Suppressed exception in observer: invalid command name \".!toplevel3.!frame.!spinbox\"\n",
      "  warnings.warn(f'Suppressed exception in observer: {ex}')\n"
     ]
    }
   ],
   "source": [
    "atoms = read('Pt.poscar')\n",
    "\n",
    "view(atoms)"
   ]
  },
  {
   "cell_type": "code",
   "execution_count": null,
   "id": "0830cd71",
   "metadata": {},
   "outputs": [],
   "source": [
    "from mp_api.client import MPRester\n",
    "trial= None\n",
    "foo=None\n",
    "with MPRester() as mpr:\n",
    "    docs = mpr.materials.summary.search(material_ids=[trial_id],fields=[\"structure\"])\n",
    "    trial = docs[0].structure\n",
    "\n",
    "    foo =  mpr.get_structure_by_material_id(trial_id,conventional_unit_cell=True)\n",
    "print(trial)\n",
    "\n",
    "if trial == foo:\n",
    "    print(\"The two structures are equal\")\n"
   ]
  },
  {
   "cell_type": "code",
   "execution_count": null,
   "id": "a38c76c9",
   "metadata": {},
   "outputs": [
    {
     "ename": "MPRestError",
     "evalue": "invalid fields requested: ['theoretical=']. Available fields: ['builder_meta', 'nsites', 'elements', 'nelements', 'composition', 'composition_reduced', 'formula_pretty', 'formula_anonymous', 'chemsys', 'volume', 'density', 'density_atomic', 'symmetry', 'property_name', 'material_id', 'deprecated', 'deprecation_reasons', 'last_updated', 'origins', 'warnings', 'structure', 'task_ids', 'uncorrected_energy_per_atom', 'energy_per_atom', 'formation_energy_per_atom', 'energy_above_hull', 'is_stable', 'equilibrium_reaction_energy_per_atom', 'decomposes_to', 'xas', 'grain_boundaries', 'band_gap', 'cbm', 'vbm', 'efermi', 'is_gap_direct', 'is_metal', 'es_source_calc_id', 'bandstructure', 'dos', 'dos_energy_up', 'dos_energy_down', 'is_magnetic', 'ordering', 'total_magnetization', 'total_magnetization_normalized_vol', 'total_magnetization_normalized_formula_units', 'num_magnetic_sites', 'num_unique_magnetic_sites', 'types_of_magnetic_species', 'bulk_modulus', 'shear_modulus', 'universal_anisotropy', 'homogeneous_poisson', 'e_total', 'e_ionic', 'e_electronic', 'n', 'e_ij_max', 'weighted_surface_energy_EV_PER_ANG2', 'weighted_surface_energy', 'weighted_work_function', 'surface_anisotropy', 'shape_factor', 'has_reconstructed', 'possible_species', 'has_props', 'theoretical', 'database_IDs']",
     "output_type": "error",
     "traceback": [
      "\u001b[31m---------------------------------------------------------------------------\u001b[39m",
      "\u001b[31mMPRestError\u001b[39m                               Traceback (most recent call last)",
      "\u001b[36mCell\u001b[39m\u001b[36m \u001b[39m\u001b[32mIn[38]\u001b[39m\u001b[32m, line 2\u001b[39m\n\u001b[32m      1\u001b[39m \u001b[38;5;28;01mwith\u001b[39;00m MPRester() \u001b[38;5;28;01mas\u001b[39;00m mpr:\n\u001b[32m----> \u001b[39m\u001b[32m2\u001b[39m     docs = \u001b[43mmpr\u001b[49m\u001b[43m.\u001b[49m\u001b[43mmaterials\u001b[49m\u001b[43m.\u001b[49m\u001b[43msummary\u001b[49m\u001b[43m.\u001b[49m\u001b[43msearch\u001b[49m\u001b[43m(\u001b[49m\u001b[43mformula\u001b[49m\u001b[43m=\u001b[49m\u001b[33;43m\"\u001b[39;49m\u001b[33;43mPt\u001b[39;49m\u001b[33;43m\"\u001b[39;49m\u001b[43m,\u001b[49m\u001b[43mfields\u001b[49m\u001b[43m=\u001b[49m\u001b[43m[\u001b[49m\u001b[33;43m\"\u001b[39;49m\u001b[33;43mmaterial_id\u001b[39;49m\u001b[33;43m\"\u001b[39;49m\u001b[43m,\u001b[49m\u001b[33;43m\"\u001b[39;49m\u001b[33;43mstructure\u001b[39;49m\u001b[33;43m\"\u001b[39;49m\u001b[43m,\u001b[49m\u001b[33;43m\"\u001b[39;49m\u001b[33;43mtheoretical=\u001b[39;49m\u001b[33;43m\"\u001b[39;49m\u001b[43m]\u001b[49m\u001b[43m)\u001b[49m\n\u001b[32m      3\u001b[39m     \u001b[38;5;28;01mfor\u001b[39;00m foo \u001b[38;5;129;01min\u001b[39;00m docs:\n\u001b[32m      4\u001b[39m         \u001b[38;5;28mprint\u001b[39m(foo.material_id)\n",
      "\u001b[36mFile \u001b[39m\u001b[32m~/miniforge3/envs/surface_env/lib/python3.11/site-packages/mp_api/client/routes/materials/summary.py:279\u001b[39m, in \u001b[36mSummaryRester.search\u001b[39m\u001b[34m(self, band_gap, chemsys, crystal_system, density, deprecated, e_electronic, e_ionic, e_total, efermi, elastic_anisotropy, elements, energy_above_hull, equilibrium_reaction_energy, exclude_elements, formation_energy, formula, g_reuss, g_voigt, g_vrh, has_props, has_reconstructed, is_gap_direct, is_metal, is_stable, k_reuss, k_voigt, k_vrh, magnetic_ordering, material_ids, n, num_elements, num_sites, num_magnetic_sites, num_unique_magnetic_sites, piezoelectric_modulus, poisson_ratio, possible_species, shape_factor, spacegroup_number, spacegroup_symbol, surface_energy_anisotropy, theoretical, total_energy, total_magnetization, total_magnetization_normalized_formula_units, total_magnetization_normalized_vol, uncorrected_energy, volume, weighted_surface_energy, weighted_work_function, include_gnome, num_chunks, chunk_size, all_fields, fields)\u001b[39m\n\u001b[32m    271\u001b[39m     query_params.update({\u001b[33m\"\u001b[39m\u001b[33mbatch_id_not_eq\u001b[39m\u001b[33m\"\u001b[39m: \u001b[33m\"\u001b[39m\u001b[33mgnome_r2scan_statics\u001b[39m\u001b[33m\"\u001b[39m})\n\u001b[32m    273\u001b[39m query_params = {\n\u001b[32m    274\u001b[39m     entry: query_params[entry]\n\u001b[32m    275\u001b[39m     \u001b[38;5;28;01mfor\u001b[39;00m entry \u001b[38;5;129;01min\u001b[39;00m query_params\n\u001b[32m    276\u001b[39m     \u001b[38;5;28;01mif\u001b[39;00m query_params[entry] \u001b[38;5;129;01mis\u001b[39;00m \u001b[38;5;129;01mnot\u001b[39;00m \u001b[38;5;28;01mNone\u001b[39;00m\n\u001b[32m    277\u001b[39m }\n\u001b[32m--> \u001b[39m\u001b[32m279\u001b[39m \u001b[38;5;28;01mreturn\u001b[39;00m \u001b[38;5;28;43msuper\u001b[39;49m\u001b[43m(\u001b[49m\u001b[43m)\u001b[49m\u001b[43m.\u001b[49m\u001b[43m_search\u001b[49m\u001b[43m(\u001b[49m\n\u001b[32m    280\u001b[39m \u001b[43m    \u001b[49m\u001b[43mnum_chunks\u001b[49m\u001b[43m=\u001b[49m\u001b[43mnum_chunks\u001b[49m\u001b[43m,\u001b[49m\n\u001b[32m    281\u001b[39m \u001b[43m    \u001b[49m\u001b[43mchunk_size\u001b[49m\u001b[43m=\u001b[49m\u001b[43mchunk_size\u001b[49m\u001b[43m,\u001b[49m\n\u001b[32m    282\u001b[39m \u001b[43m    \u001b[49m\u001b[43mall_fields\u001b[49m\u001b[43m=\u001b[49m\u001b[43mall_fields\u001b[49m\u001b[43m,\u001b[49m\n\u001b[32m    283\u001b[39m \u001b[43m    \u001b[49m\u001b[43mfields\u001b[49m\u001b[43m=\u001b[49m\u001b[43mfields\u001b[49m\u001b[43m,\u001b[49m\n\u001b[32m    284\u001b[39m \u001b[43m    \u001b[49m\u001b[43m*\u001b[49m\u001b[43m*\u001b[49m\u001b[43mquery_params\u001b[49m\u001b[43m,\u001b[49m\n\u001b[32m    285\u001b[39m \u001b[43m\u001b[49m\u001b[43m)\u001b[49m\n",
      "\u001b[36mFile \u001b[39m\u001b[32m~/miniforge3/envs/surface_env/lib/python3.11/site-packages/mp_api/client/core/client.py:1191\u001b[39m, in \u001b[36mBaseRester._search\u001b[39m\u001b[34m(self, num_chunks, chunk_size, all_fields, fields, **kwargs)\u001b[39m\n\u001b[32m   1169\u001b[39m \u001b[38;5;250m\u001b[39m\u001b[33;03m\"\"\"A generic search method to retrieve documents matching specific parameters.\u001b[39;00m\n\u001b[32m   1170\u001b[39m \n\u001b[32m   1171\u001b[39m \u001b[33;03mArguments:\u001b[39;00m\n\u001b[32m   (...)\u001b[39m\u001b[32m   1186\u001b[39m \u001b[33;03m    A list of documents.\u001b[39;00m\n\u001b[32m   1187\u001b[39m \u001b[33;03m\"\"\"\u001b[39;00m\n\u001b[32m   1188\u001b[39m \u001b[38;5;66;03m# This method should be customized for each end point to give more user friendly,\u001b[39;00m\n\u001b[32m   1189\u001b[39m \u001b[38;5;66;03m# documented kwargs.\u001b[39;00m\n\u001b[32m-> \u001b[39m\u001b[32m1191\u001b[39m \u001b[38;5;28;01mreturn\u001b[39;00m \u001b[38;5;28;43mself\u001b[39;49m\u001b[43m.\u001b[49m\u001b[43m_get_all_documents\u001b[49m\u001b[43m(\u001b[49m\n\u001b[32m   1192\u001b[39m \u001b[43m    \u001b[49m\u001b[43mkwargs\u001b[49m\u001b[43m,\u001b[49m\n\u001b[32m   1193\u001b[39m \u001b[43m    \u001b[49m\u001b[43mall_fields\u001b[49m\u001b[43m=\u001b[49m\u001b[43mall_fields\u001b[49m\u001b[43m,\u001b[49m\n\u001b[32m   1194\u001b[39m \u001b[43m    \u001b[49m\u001b[43mfields\u001b[49m\u001b[43m=\u001b[49m\u001b[43mfields\u001b[49m\u001b[43m,\u001b[49m\n\u001b[32m   1195\u001b[39m \u001b[43m    \u001b[49m\u001b[43mchunk_size\u001b[49m\u001b[43m=\u001b[49m\u001b[43mchunk_size\u001b[49m\u001b[43m,\u001b[49m\n\u001b[32m   1196\u001b[39m \u001b[43m    \u001b[49m\u001b[43mnum_chunks\u001b[49m\u001b[43m=\u001b[49m\u001b[43mnum_chunks\u001b[49m\u001b[43m,\u001b[49m\n\u001b[32m   1197\u001b[39m \u001b[43m\u001b[49m\u001b[43m)\u001b[49m\n",
      "\u001b[36mFile \u001b[39m\u001b[32m~/miniforge3/envs/surface_env/lib/python3.11/site-packages/mp_api/client/core/client.py:1264\u001b[39m, in \u001b[36mBaseRester._get_all_documents\u001b[39m\u001b[34m(self, query_params, all_fields, fields, chunk_size, num_chunks)\u001b[39m\n\u001b[32m   1250\u001b[39m list_entries = \u001b[38;5;28msorted\u001b[39m(\n\u001b[32m   1251\u001b[39m     (\n\u001b[32m   1252\u001b[39m         (key, \u001b[38;5;28mlen\u001b[39m(entry.split(\u001b[33m\"\u001b[39m\u001b[33m,\u001b[39m\u001b[33m\"\u001b[39m)))\n\u001b[32m   (...)\u001b[39m\u001b[32m   1259\u001b[39m     reverse=\u001b[38;5;28;01mTrue\u001b[39;00m,\n\u001b[32m   1260\u001b[39m )\n\u001b[32m   1262\u001b[39m chosen_param = list_entries[\u001b[32m0\u001b[39m][\u001b[32m0\u001b[39m] \u001b[38;5;28;01mif\u001b[39;00m \u001b[38;5;28mlen\u001b[39m(list_entries) > \u001b[32m0\u001b[39m \u001b[38;5;28;01melse\u001b[39;00m \u001b[38;5;28;01mNone\u001b[39;00m\n\u001b[32m-> \u001b[39m\u001b[32m1264\u001b[39m results = \u001b[38;5;28;43mself\u001b[39;49m\u001b[43m.\u001b[49m\u001b[43m_query_resource\u001b[49m\u001b[43m(\u001b[49m\n\u001b[32m   1265\u001b[39m \u001b[43m    \u001b[49m\u001b[43mquery_params\u001b[49m\u001b[43m,\u001b[49m\n\u001b[32m   1266\u001b[39m \u001b[43m    \u001b[49m\u001b[43mfields\u001b[49m\u001b[43m=\u001b[49m\u001b[43mfields\u001b[49m\u001b[43m,\u001b[49m\n\u001b[32m   1267\u001b[39m \u001b[43m    \u001b[49m\u001b[43mparallel_param\u001b[49m\u001b[43m=\u001b[49m\u001b[43mchosen_param\u001b[49m\u001b[43m,\u001b[49m\n\u001b[32m   1268\u001b[39m \u001b[43m    \u001b[49m\u001b[43mchunk_size\u001b[49m\u001b[43m=\u001b[49m\u001b[43mchunk_size\u001b[49m\u001b[43m,\u001b[49m\n\u001b[32m   1269\u001b[39m \u001b[43m    \u001b[49m\u001b[43mnum_chunks\u001b[49m\u001b[43m=\u001b[49m\u001b[43mnum_chunks\u001b[49m\u001b[43m,\u001b[49m\n\u001b[32m   1270\u001b[39m \u001b[43m\u001b[49m\u001b[43m)\u001b[49m\n\u001b[32m   1272\u001b[39m \u001b[38;5;28;01mreturn\u001b[39;00m results[\u001b[33m\"\u001b[39m\u001b[33mdata\u001b[39m\u001b[33m\"\u001b[39m]\n",
      "\u001b[36mFile \u001b[39m\u001b[32m~/miniforge3/envs/surface_env/lib/python3.11/site-packages/mp_api/client/core/client.py:464\u001b[39m, in \u001b[36mBaseRester._query_resource\u001b[39m\u001b[34m(self, criteria, fields, suburl, use_document_model, parallel_param, num_chunks, chunk_size, timeout)\u001b[39m\n\u001b[32m    460\u001b[39m         invalid_fields = [\n\u001b[32m    461\u001b[39m             f \u001b[38;5;28;01mfor\u001b[39;00m f \u001b[38;5;129;01min\u001b[39;00m fields \u001b[38;5;28;01mif\u001b[39;00m f.split(\u001b[33m\"\u001b[39m\u001b[33m.\u001b[39m\u001b[33m\"\u001b[39m, \u001b[32m1\u001b[39m)[\u001b[32m0\u001b[39m] \u001b[38;5;129;01mnot\u001b[39;00m \u001b[38;5;129;01min\u001b[39;00m \u001b[38;5;28mself\u001b[39m.available_fields\n\u001b[32m    462\u001b[39m         ]\n\u001b[32m    463\u001b[39m         \u001b[38;5;28;01mif\u001b[39;00m invalid_fields:\n\u001b[32m--> \u001b[39m\u001b[32m464\u001b[39m             \u001b[38;5;28;01mraise\u001b[39;00m MPRestError(\n\u001b[32m    465\u001b[39m                 \u001b[33mf\u001b[39m\u001b[33m\"\u001b[39m\u001b[33minvalid fields requested: \u001b[39m\u001b[38;5;132;01m{\u001b[39;00minvalid_fields\u001b[38;5;132;01m}\u001b[39;00m\u001b[33m. Available fields: \u001b[39m\u001b[38;5;132;01m{\u001b[39;00m\u001b[38;5;28mself\u001b[39m.available_fields\u001b[38;5;132;01m}\u001b[39;00m\u001b[33m\"\u001b[39m\n\u001b[32m    466\u001b[39m             )\n\u001b[32m    468\u001b[39m     criteria[\u001b[33m\"\u001b[39m\u001b[33m_fields\u001b[39m\u001b[33m\"\u001b[39m] = \u001b[33m\"\u001b[39m\u001b[33m,\u001b[39m\u001b[33m\"\u001b[39m.join(fields)\n\u001b[32m    470\u001b[39m \u001b[38;5;28;01mtry\u001b[39;00m:\n",
      "\u001b[31mMPRestError\u001b[39m: invalid fields requested: ['theoretical=']. Available fields: ['builder_meta', 'nsites', 'elements', 'nelements', 'composition', 'composition_reduced', 'formula_pretty', 'formula_anonymous', 'chemsys', 'volume', 'density', 'density_atomic', 'symmetry', 'property_name', 'material_id', 'deprecated', 'deprecation_reasons', 'last_updated', 'origins', 'warnings', 'structure', 'task_ids', 'uncorrected_energy_per_atom', 'energy_per_atom', 'formation_energy_per_atom', 'energy_above_hull', 'is_stable', 'equilibrium_reaction_energy_per_atom', 'decomposes_to', 'xas', 'grain_boundaries', 'band_gap', 'cbm', 'vbm', 'efermi', 'is_gap_direct', 'is_metal', 'es_source_calc_id', 'bandstructure', 'dos', 'dos_energy_up', 'dos_energy_down', 'is_magnetic', 'ordering', 'total_magnetization', 'total_magnetization_normalized_vol', 'total_magnetization_normalized_formula_units', 'num_magnetic_sites', 'num_unique_magnetic_sites', 'types_of_magnetic_species', 'bulk_modulus', 'shear_modulus', 'universal_anisotropy', 'homogeneous_poisson', 'e_total', 'e_ionic', 'e_electronic', 'n', 'e_ij_max', 'weighted_surface_energy_EV_PER_ANG2', 'weighted_surface_energy', 'weighted_work_function', 'surface_anisotropy', 'shape_factor', 'has_reconstructed', 'possible_species', 'has_props', 'theoretical', 'database_IDs']"
     ]
    }
   ],
   "source": [
    "with MPRester() as mpr:\n",
    "    docs = mpr.materials.summary.search(formula=\"Pt\",theoretical=False,fields=[\"material_id\",\"structure\"])\n",
    "    for foo in docs:\n",
    "        print(foo.material_id)\n",
    "        \n",
    "    \n",
    "    \n",
    "\n"
   ]
  },
  {
   "cell_type": "code",
   "execution_count": 33,
   "id": "9ffafb24",
   "metadata": {},
   "outputs": [
    {
     "data": {
      "text/plain": [
       "'Pt4\\n1.0\\n   3.9431503618848787    0.0000000000000000    0.0000000000000002\\n   0.0000000000000006    3.9431503618848787    0.0000000000000002\\n   0.0000000000000000    0.0000000000000000    3.9431503618848787\\nPt\\n4\\ndirect\\n   0.0000000000000000    0.0000000000000000    0.0000000000000000 Pt\\n   0.0000000000000000    0.5000000000000000    0.5000000000000000 Pt\\n   0.5000000000000000    0.0000000000000000    0.5000000000000000 Pt\\n   0.5000000000000000    0.5000000000000000    0.0000000000000000 Pt\\n'"
      ]
     },
     "execution_count": 33,
     "metadata": {},
     "output_type": "execute_result"
    }
   ],
   "source": [
    "foo.to(\"foo.poscar\",fmt=\"poscar\")\n"
   ]
  },
  {
   "cell_type": "code",
   "execution_count": 34,
   "id": "db0523c7",
   "metadata": {},
   "outputs": [
    {
     "data": {
      "text/plain": [
       "<Popen: returncode: None args: ['/home/joel/miniforge3/envs/surface_env/bin/...>"
      ]
     },
     "execution_count": 34,
     "metadata": {},
     "output_type": "execute_result"
    }
   ],
   "source": [
    "bar  = read('foo.poscar')\n",
    "view(bar)"
   ]
  },
  {
   "cell_type": "code",
   "execution_count": null,
   "id": "d5160e1e",
   "metadata": {},
   "outputs": [],
   "source": [
    "def fetch_poscar_from_mp(trial_id, name conventional_unit_cell=True):\n",
    "    with MPRester() as mpr:\n",
    "        structure = mpr.get_structure_by_material_id(trial_id, conventional_unit_cell=True)\n",
    "        structure.to(f\"{name}.poscar\", fmt=\"poscar\")\n",
    "        return structure"
   ]
  }
 ],
 "metadata": {
  "kernelspec": {
   "display_name": "surface_env",
   "language": "python",
   "name": "python3"
  },
  "language_info": {
   "codemirror_mode": {
    "name": "ipython",
    "version": 3
   },
   "file_extension": ".py",
   "mimetype": "text/x-python",
   "name": "python",
   "nbconvert_exporter": "python",
   "pygments_lexer": "ipython3",
   "version": "3.11.12"
  }
 },
 "nbformat": 4,
 "nbformat_minor": 5
}
