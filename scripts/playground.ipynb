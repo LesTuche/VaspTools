{
 "cells": [
  {
   "cell_type": "markdown",
   "id": "05ae957d",
   "metadata": {},
   "source": [
    "### THIS is a test ground to interactively test new features"
   ]
  },
  {
   "cell_type": "code",
   "execution_count": 3,
   "id": "889ab78a-7269-4bed-9da3-93ae12a4f26b",
   "metadata": {},
   "outputs": [
    {
     "name": "stdout",
     "output_type": "stream",
     "text": [
      "/cluster/home/jlandis/VaspTools/scripts\n"
     ]
    }
   ],
   "source": [
    "import os \n",
    "import utils\n",
    "\n",
    "print(os.getcwd())\n",
    "\n",
    "\n"
   ]
  },
  {
   "cell_type": "code",
   "execution_count": 17,
   "id": "5874465c",
   "metadata": {},
   "outputs": [
    {
     "data": {
      "application/vnd.jupyter.widget-view+json": {
       "model_id": "ba260b5e2dbc4249805dceefbd4f48a9",
       "version_major": 2,
       "version_minor": 0
      },
      "text/plain": [
       "Retrieving SummaryDoc documents:   0%|          | 0/1 [00:00<?, ?it/s]"
      ]
     },
     "metadata": {},
     "output_type": "display_data"
    },
    {
     "data": {
      "application/vnd.jupyter.widget-view+json": {
       "model_id": "9dde558922d14c99af2810feba7c5bf2",
       "version_major": 2,
       "version_minor": 0
      },
      "text/plain": [
       "Retrieving MaterialsDoc documents:   0%|          | 0/1 [00:00<?, ?it/s]"
      ]
     },
     "metadata": {},
     "output_type": "display_data"
    },
    {
     "name": "stdout",
     "output_type": "stream",
     "text": [
      "Preparing /cluster/home/jlandis/VaspTools/scripts/mp-126.poscar files for a bulk calculation of Al2O3 for VASP.\n",
      "Writing input files for Al2O3 to /cluster/home/jlandis/VaspTools/scripts/foobar/bulk\n"
     ]
    }
   ],
   "source": [
    "import utils\n",
    "\n",
    "tst_formula =\"Pt\"\n",
    "incar_tags = {\n",
    "    \"ISPIN\": 2,\n",
    "    \"LORBIT\": 11,\n",
    " }\n",
    "\n",
    "\n",
    "\n",
    "\n",
    "utils.prepare_bulk_structure(material=\"Al2O3\",incar_tags_user=incar_tags,kspacing=0.15,folder_path=os.getcwd()+\"/foobar\") \n"
   ]
  },
  {
   "cell_type": "code",
   "execution_count": 12,
   "id": "d5160e1e",
   "metadata": {},
   "outputs": [
    {
     "data": {
      "application/vnd.jupyter.widget-view+json": {
       "model_id": "646b27c5b04d4c1b88f952a80b8fa487",
       "version_major": 2,
       "version_minor": 0
      },
      "text/plain": [
       "Retrieving SummaryDoc documents:   0%|          | 0/1 [00:00<?, ?it/s]"
      ]
     },
     "metadata": {},
     "output_type": "display_data"
    },
    {
     "name": "stdout",
     "output_type": "stream",
     "text": [
      "mp-126\n"
     ]
    }
   ],
   "source": [
    "from mp_api.client import MPRester\n",
    "\n",
    "\n",
    "with MPRester() as mpr:\n",
    "    structures = mpr.materials.summary.search(formula=\"Pt\", theoretical=False,fields=[\"material_id\"])\n",
    "    for struct in structures:\n",
    "        print(struct.material_id)\n",
    "        \n",
    "\n"
   ]
  },
  {
   "cell_type": "code",
   "execution_count": 15,
   "id": "a30e1d4c",
   "metadata": {},
   "outputs": [
    {
     "data": {
      "text/plain": [
       "<Popen: returncode: None args: ['/cluster/home/jlandis/python_venv/vasp_env/...>"
      ]
     },
     "execution_count": 15,
     "metadata": {},
     "output_type": "execute_result"
    },
    {
     "name": "stderr",
     "output_type": "stream",
     "text": [
      "usage: ase [-h] [--version] [-T]\n",
      "           {help,info,test,gui,db,run,band-structure,build,dimensionality,eos,ulm,find,nebplot,convert,reciprocal,completion,diff,exec}\n",
      "           ...\n",
      "ase: error: TclError: no display name and no $DISPLAY environment variable\n",
      "To get a full traceback, use: ase -T gui ...\n"
     ]
    }
   ],
   "source": [
    "from ase.visualize import view\n",
    "from ase.io import read\n",
    "\n",
    "\n",
    "atoms = read(\"/cluster/home/jlandis/VaspTools/scripts/test/bulk/CONTCAR\")\n",
    "\n",
    "view(atoms)"
   ]
  }
 ],
 "metadata": {
  "kernelspec": {
   "display_name": "Python Vasp env",
   "language": "python",
   "name": "vasp_env"
  },
  "language_info": {
   "codemirror_mode": {
    "name": "ipython",
    "version": 3
   },
   "file_extension": ".py",
   "mimetype": "text/x-python",
   "name": "python",
   "nbconvert_exporter": "python",
   "pygments_lexer": "ipython3",
   "version": "3.11.6"
  }
 },
 "nbformat": 4,
 "nbformat_minor": 5
}
